{
 "cells": [
  {
   "cell_type": "markdown",
   "id": "31020978",
   "metadata": {},
   "source": [
    "# Question 1\n",
    "Your Friend has developed the Product and he wants to establish the product startup and he is searching for a perfect location where getting the investment has a high chance. But due to its financial restriction, he can choose only between three locations -  Bangalore, Mumbai, and NCR. As a friend, you want to help your friend deciding the location. NCR include Gurgaon, Noida and New Delhi. Find the location where the most number of funding is done. That means, find the location where startups has received funding maximum number of times. Plot the bar graph between location and number of funding. Take city name \"Delhi\" as \"New Delhi\". Check the case-sensitiveness of cities also. That means, at some place instead of \"Bangalore\", \"bangalore\" is given. Take city name as \"Bangalore\". For few startups multiple locations are given, one Indian and one Foreign. Consider the startup if any one of the city lies in given locations."
   ]
  },
  {
   "cell_type": "code",
   "execution_count": 57,
   "id": "5b23eb41",
   "metadata": {},
   "outputs": [],
   "source": [
    "import pandas as pd\n",
    "import matplotlib.pyplot as plt\n",
    "import numpy as np"
   ]
  },
  {
   "cell_type": "code",
   "execution_count": 2,
   "id": "09111ffe",
   "metadata": {},
   "outputs": [],
   "source": [
    "def dictionary_creator(array, locations):\n",
    "    d = {}\n",
    "    for i in array:\n",
    "        if '/' not in i:\n",
    "            if i in locations:\n",
    "                if i in d:\n",
    "                    d[i] += 1\n",
    "                else:\n",
    "                    d[i] = 1\n",
    "        else:\n",
    "            string = i.split('/')\n",
    "            for j in string:\n",
    "                if j.strip() in locations:\n",
    "                    if j.strip() not in d:\n",
    "                        d[j.strip()] = 1\n",
    "                    else:\n",
    "                        d[j.strip()] += 1\n",
    "    return d\n",
    "            "
   ]
  },
  {
   "cell_type": "code",
   "execution_count": 3,
   "id": "293159c0",
   "metadata": {},
   "outputs": [
    {
     "data": {
      "image/png": "[encoded data removed]",
      "text/plain": [
       "<Figure size 432x288 with 1 Axes>"
      ]
     },
     "metadata": {
      "needs_background": "light"
     },
     "output_type": "display_data"
    }
   ],
   "source": [
    "df = pd.read_csv('startup_funding.csv')\n",
    "df.dropna(subset=['CityLocation'],inplace=True)\n",
    "df['CityLocation'].replace('Delhi', 'New Delhi', inplace = True)\n",
    "df['CityLocation'].replace('bangalore', 'Bangalore', inplace = True)\n",
    "\n",
    "locations = ['New Delhi', 'Mumbai', 'Gurgaon', 'Bangalore', 'Noida']\n",
    "dictionary = dictionary_creator(df['CityLocation'], locations)\n",
    "plt.bar(dictionary.keys(), dictionary.values(), color='blue', width=0.4)\n",
    "plt.grid()\n",
    "plt.xlabel(\"Cities\")\n",
    "plt.ylabel(\"Number of Fundings\")\n",
    "plt.title(\"Best Affordable City for Startup\")\n",
    "plt.show()"
   ]
  },
  {
   "cell_type": "markdown",
   "id": "357c294f",
   "metadata": {},
   "source": [
    "# Question 2\n",
    "Even after trying for so many times, your friend’s startup could not find the investment. So you decided to take this matter in your hand and try to find the list of investors who probably can invest in your friend’s startup. Your list will increase the chance of your friend startup getting some initial investment by contacting these investors. Find the top 5 investors who have invested maximum number of times (consider repeat investments in one company also). In a startup, multiple investors might have invested. So consider each investor for that startup. Ignore undisclosed investors."
   ]
  },
  {
   "cell_type": "code",
   "execution_count": null,
   "id": "1cff33c2",
   "metadata": {},
   "outputs": [],
   "source": [
    "import pandas as pd\n",
    "import matplotlib.pyplot as plt\n",
    "import numpy as np"
   ]
  },
  {
   "cell_type": "code",
   "execution_count": 22,
   "id": "5974be2e",
   "metadata": {},
   "outputs": [],
   "source": [
    "def createDictionary(array):\n",
    "    dictionary={}\n",
    "    for i in array:\n",
    "        if ',' not in i:\n",
    "            if i in dictionary:\n",
    "                dictionary[i]=dictionary.get(i)+1\n",
    "            else:\n",
    "                dictionary[i]=1\n",
    "        else:\n",
    "            string=i.strip().split(',')\n",
    "            for j in string:\n",
    "                if j.strip() in dictionary:\n",
    "                    dictionary[j.strip()]=dictionary.get(j.strip())+1\n",
    "                else:\n",
    "                    dictionary[j.strip()]=1\n",
    "    return dictionary"
   ]
  },
  {
   "cell_type": "code",
   "execution_count": 179,
   "id": "173cddb0",
   "metadata": {},
   "outputs": [
    {
     "name": "stdout",
     "output_type": "stream",
     "text": [
      "Sequoia Capital 64\n",
      "Accel Partners 53\n",
      "Kalaari Capital 44\n",
      "SAIF Partners 41\n",
      "Indian Angel Network 40\n"
     ]
    },
    {
     "data": {
      "image/png": "[encoded data removed]",
      "text/plain": [
       "<Figure size 432x288 with 1 Axes>"
      ]
     },
     "metadata": {},
     "output_type": "display_data"
    }
   ],
   "source": [
    "df = pd.read_csv('startup_funding.csv')\n",
    "df['InvestorsName'] = df['InvestorsName'].replace('Undisclosed Investors', np.nan)\n",
    "df['InvestorsName'] = df['InvestorsName'].replace('Undisclosed investors', np.nan)\n",
    "df['InvestorsName'] = df['InvestorsName'].replace('undisclosed Investors', np.nan)\n",
    "df['InvestorsName'] = df['InvestorsName'].replace('undisclosed investors', np.nan)\n",
    "\n",
    "df.dropna(subset = ['InvestorsName'], inplace = True)\n",
    "d = createDictionary(df['InvestorsName'])\n",
    "import operator as op\n",
    "d = dict(sorted(d.items(), key=op.itemgetter(1), reverse=True))\n",
    "val = 0\n",
    "l1 = []\n",
    "l2 = []\n",
    "for i in d:\n",
    "    l1.append(i)\n",
    "    l2.append(d[i])\n",
    "    print(i, d[i])\n",
    "    val += 1\n",
    "    if val == 5:\n",
    "        break\n",
    "        \n",
    "plt.pie(l2, labels=l1, autopct='%0.2f%%')\n",
    "plt.show()"
   ]
  },
  {
   "cell_type": "markdown",
   "id": "bf478409",
   "metadata": {},
   "source": [
    "# Question 3\n",
    "After re-analysing the dataset you found out that some investors have invested in the same startup at different number of funding rounds. So before finalising the previous list, you want to improvise it by finding the top 5 investors who have invested in different number of startups. This list will be more helpful than your previous list in finding the investment for your friend startup. Find the top 5 investors who have invested maximum number of times in different companies. That means, if one investor has invested multiple times in one startup, count one for that company. There are many errors in startup names. Ignore correcting all, just handle the important ones - Ola, Flipkart, Oyo and Paytm."
   ]
  },
  {
   "cell_type": "code",
   "execution_count": null,
   "id": "c5753589",
   "metadata": {},
   "outputs": [],
   "source": [
    "import pandas as pd\n",
    "import matplotlib.pyplot as plt\n",
    "import numpy as np"
   ]
  },
  {
   "cell_type": "code",
   "execution_count": 171,
   "id": "bf8a01be",
   "metadata": {},
   "outputs": [],
   "source": [
    "def investors(startUps, invest):\n",
    "    \n",
    "    d = {}\n",
    "    for i in range(len(invest)):\n",
    "        if ',' in invest[i]:\n",
    "            string = invest[i].strip().split(',')\n",
    "            for j in string:\n",
    "                if j.strip() == '' or j.strip() == ' ':\n",
    "                    continue\n",
    "                if j.strip() in d:\n",
    "                    if startUps[i] not in d[j.strip()]:\n",
    "                        d[j.strip()].append(str(startUps[i]))\n",
    "                else:\n",
    "                    d[j.strip()] = list()\n",
    "                    d[j.strip()].append(str(startUps[i]))\n",
    "        else:\n",
    "            string = invest[i].strip()\n",
    "            if string in d:\n",
    "                if startUps[i] not in d[string]:\n",
    "                    d[string].append(str(startUps[i]))\n",
    "            else:\n",
    "                d[string] = list()\n",
    "                d[string].append(str(startUps[i]))\n",
    "\n",
    "    return d"
   ]
  },
  {
   "cell_type": "code",
   "execution_count": 172,
   "id": "5daa7274",
   "metadata": {},
   "outputs": [],
   "source": [
    "def count(d):\n",
    "    dic = {}\n",
    "    for i in d:\n",
    "        dic[i] = len(d[i])\n",
    "        \n",
    "    return dic"
   ]
  },
  {
   "cell_type": "code",
   "execution_count": 202,
   "id": "fcd83029",
   "metadata": {},
   "outputs": [
    {
     "name": "stdout",
     "output_type": "stream",
     "text": [
      "Sequoia Capital 49\n",
      "Accel Partners 47\n",
      "Kalaari Capital 41\n",
      "Indian Angel Network 40\n",
      "Blume Ventures 36\n"
     ]
    },
    {
     "name": "stderr",
     "output_type": "stream",
     "text": [
      "<ipython-input-202-8e44afe5f119>:10: FutureWarning: The default value of regex will change from True to False in a future version.\n",
      "  df['StartupName'] = df['StartupName'].str.replace('Flipkart.com', 'Flipkart')\n"
     ]
    },
    {
     "data": {
      "image/png": "[encoded data removed]",
      "text/plain": [
       "<Figure size 432x288 with 1 Axes>"
      ]
     },
     "metadata": {
      "needs_background": "light"
     },
     "output_type": "display_data"
    }
   ],
   "source": [
    "df = pd.read_csv(\"startup_funding.csv\")\n",
    "df['InvestorsName'] = df['InvestorsName'].replace('Undisclosed Investors', np.nan)\n",
    "df['InvestorsName'] = df['InvestorsName'].replace('Undisclosed investors', np.nan)\n",
    "df['InvestorsName'] = df['InvestorsName'].replace('undisclosed Investors', np.nan)\n",
    "df['InvestorsName'] = df['InvestorsName'].replace('undisclosed investors', np.nan)\n",
    "df.dropna(subset = ['InvestorsName'], inplace = True)\n",
    "df.dropna(subset = ['StartupName'], inplace = True)\n",
    "df['StartupName'] = df['StartupName'].str.replace('Olacabs', 'Ola')\n",
    "df['StartupName'] = df['StartupName'].str.replace('Ola Cabs', 'Ola')\n",
    "df['StartupName'] = df['StartupName'].str.replace('Flipkart.com', 'Flipkart')\n",
    "df['StartupName'] = df['StartupName'].str.replace('Oyo Rooms', 'Oyo')\n",
    "df['StartupName'] = df['StartupName'].str.replace('OyoRooms', 'Oyo')\n",
    "df['StartupName'] = df['StartupName'].str.replace('Oyorooms', 'Oyo')\n",
    "df['StartupName'] = df['StartupName'].str.replace('Paytm Marketplace', 'Paytm')\n",
    "\n",
    "\n",
    "arr1 = np.array(df['StartupName'])\n",
    "arr2 = np.array(df['InvestorsName'])\n",
    "# print(len(arr2))\n",
    "dictionary = investors(arr1, arr2)\n",
    "# print(type(dictionary))\n",
    "dic = count(dictionary)\n",
    "import operator as op\n",
    "d = dict(sorted(dic.items(), key=op.itemgetter(1), reverse=True))\n",
    "val = 0\n",
    "l1 = []\n",
    "l2 = []\n",
    "for i in d:\n",
    "    l1.append(i)\n",
    "    l2.append(d[i])\n",
    "    print(i, d[i])\n",
    "    val += 1\n",
    "    if(val == 5):\n",
    "        break\n",
    "        \n",
    "plt.bar(l1, l2)\n",
    "plt.grid()\n",
    "plt.xticks(rotation=60)\n",
    "plt.xlabel('Investor Name')\n",
    "plt.ylabel('Number of Investments')\n",
    "plt.show()"
   ]
  },
  {
   "cell_type": "markdown",
   "id": "4dfab8bf",
   "metadata": {},
   "source": [
    "# Question 4\n",
    "Even after putting so much effort in finding the probable investors, it didn't turn out to be helpful for your friend. So you went to your investor friend to understand the situation better and your investor friend explained to you about the different Investment Types and their features. This new information will be helpful in finding the right investor. Since your friend startup is at an early stage startup, the best-suited investment type would be - Seed Funding and Crowdfunding. Find the top 5 investors who have invested in a different number of startups and their investment type is Crowdfunding or Seed Funding. Correct spelling of investment types are - \"Private Equity\", \"Seed Funding\", \"Debt Funding\", and \"Crowd Funding\". Keep an eye for any spelling mistake. You can find this by printing unique values from this column. There are many errors in startup names. Ignore correcting all, just handle the important ones - Ola, Flipkart, Oyo and Paytm."
   ]
  },
  {
   "cell_type": "code",
   "execution_count": null,
   "id": "8adf53df",
   "metadata": {},
   "outputs": [],
   "source": [
    "import pandas as pd\n",
    "import matplotlib.pyplot as plt\n",
    "import numpy as np"
   ]
  },
  {
   "cell_type": "code",
   "execution_count": 188,
   "id": "94eac40a",
   "metadata": {},
   "outputs": [],
   "source": [
    "def investors(startUps, invest):\n",
    "    \n",
    "    d = {}\n",
    "    for i in range(len(invest)):\n",
    "        if ',' in invest[i]:\n",
    "            string = invest[i].strip().split(',')\n",
    "            for j in string:\n",
    "                if j.strip() == '' or j.strip() == ' ':\n",
    "                    continue\n",
    "                if j.strip() in d:\n",
    "                    if startUps[i] not in d[j.strip()]:\n",
    "                        d[j.strip()].append(str(startUps[i]))\n",
    "                else:\n",
    "                    d[j.strip()] = list()\n",
    "                    d[j.strip()].append(str(startUps[i]))\n",
    "        else:\n",
    "            string = invest[i].strip()\n",
    "            if string in d:\n",
    "                if startUps[i] not in d[string]:\n",
    "                    d[string].append(str(startUps[i]))\n",
    "            else:\n",
    "                d[string] = list()\n",
    "                d[string].append(str(startUps[i]))\n",
    "                \n",
    "    return d"
   ]
  },
  {
   "cell_type": "code",
   "execution_count": 189,
   "id": "68648d69",
   "metadata": {},
   "outputs": [],
   "source": [
    "def count(d):\n",
    "    dic = {}\n",
    "    for i in d:\n",
    "        dic[i] = len(d[i])\n",
    "        \n",
    "    return dic"
   ]
  },
  {
   "cell_type": "code",
   "execution_count": 203,
   "id": "e3bff376",
   "metadata": {},
   "outputs": [
    {
     "name": "stdout",
     "output_type": "stream",
     "text": [
      "Indian Angel Network 33\n",
      "Rajan Anandan 23\n",
      "LetsVenture 16\n",
      "Anupam Mittal 16\n",
      "Kunal Shah 14\n"
     ]
    },
    {
     "name": "stderr",
     "output_type": "stream",
     "text": [
      "<ipython-input-203-f5adb65c893d>:13: FutureWarning: The default value of regex will change from True to False in a future version.\n",
      "  df['StartupName'] = df['StartupName'].str.replace('Flipkart.com', 'Flipkart')\n"
     ]
    },
    {
     "data": {
      "image/png": "[encoded data removed]",
      "text/plain": [
       "<Figure size 432x288 with 1 Axes>"
      ]
     },
     "metadata": {
      "needs_background": "light"
     },
     "output_type": "display_data"
    }
   ],
   "source": [
    "df = pd.read_csv('startup_funding.csv')\n",
    "df['InvestmentType'].replace('SeedFunding', 'Seed Funding', inplace = True)\n",
    "df['InvestmentType'].replace('PrivateEquity', 'Private Equity', inplace = True)\n",
    "df['InvestmentType'].replace('Crowd funding', 'Crowd Funding', inplace = True)\n",
    "df.dropna(subset = ['InvestmentType'], inplace = True)\n",
    "df['InvestorsName'] = df['InvestorsName'].replace('Undisclosed Investors', np.nan)\n",
    "df['InvestorsName'] = df['InvestorsName'].replace('Undisclosed investors', np.nan)\n",
    "df['InvestorsName'] = df['InvestorsName'].replace('undisclosed Investors', np.nan)\n",
    "df['InvestorsName'] = df['InvestorsName'].replace('undisclosed investors', np.nan)\n",
    "df.dropna(subset = ['InvestorsName'], inplace = True)\n",
    "df['StartupName'] = df['StartupName'].str.replace('Olacabs', 'Ola')\n",
    "df['StartupName'] = df['StartupName'].str.replace('Ola Cabs', 'Ola')\n",
    "df['StartupName'] = df['StartupName'].str.replace('Flipkart.com', 'Flipkart')\n",
    "df['StartupName'] = df['StartupName'].str.replace('Oyo Rooms', 'Oyo')\n",
    "df['StartupName'] = df['StartupName'].str.replace('OyoRooms', 'Oyo')\n",
    "df['StartupName'] = df['StartupName'].str.replace('Oyorooms', 'Oyo')\n",
    "df['StartupName'] = df['StartupName'].str.replace('Paytm Marketplace', 'Paytm')\n",
    "df.dropna(subset = ['StartupName'], inplace = True)\n",
    "\n",
    "df = df[(df.InvestmentType == 'Crowd Funding') | (df.InvestmentType == 'Seed Funding')]\n",
    "\n",
    "d = investors(np.array(df['StartupName']), np.array(df['InvestorsName']))\n",
    "dic = count(d)\n",
    "import operator as op\n",
    "d = dict(sorted(dic.items(), key=op.itemgetter(1), reverse=True))\n",
    "val = 0\n",
    "l1 = []\n",
    "l2 = []\n",
    "for i in d:\n",
    "    l1.append(i)\n",
    "    l2.append(d[i])\n",
    "    print(i, d[i])\n",
    "    val += 1\n",
    "    if(val == 5):\n",
    "        break\n",
    "        \n",
    "plt.bar(l1, l2)\n",
    "plt.grid()\n",
    "plt.xticks(rotation=60)\n",
    "plt.title('Top Investors in Seed Funding and Crowd Funding Type')\n",
    "plt.xlabel('Investor Name')\n",
    "plt.ylabel('Number of Investments')\n",
    "plt.show()\n"
   ]
  },
  {
   "cell_type": "markdown",
   "id": "eb4c8807",
   "metadata": {},
   "source": [
    "# Question 5\n",
    "Due to your immense help, your friend startup successfully got seed funding and it is on the operational mode. Now your friend wants to expand his startup and he is looking for new investors for his startup. Now you again come as a saviour to help your friend and want to create a list of probable new investors. Before moving forward you remember your investor friend advice that finding the investors by analysing the investment type. Since your friend startup is not in early phase it is in growth stage so the best-suited investment type is Private Equity. Find the top 5 investors who have invested in a different number of startups and their investment type is Private Equity. Correct spelling of investment types are - \"Private Equity\", \"Seed Funding\", \"Debt Funding\", and \"Crowd Funding\". Keep an eye for any spelling mistake. You can find this by printing unique values from this column. There are many errors in startup names. Ignore correcting all, just handle the important ones - Ola, Flipkart, Oyo and Paytm."
   ]
  },
  {
   "cell_type": "code",
   "execution_count": null,
   "id": "483f2163",
   "metadata": {},
   "outputs": [],
   "source": [
    "import pandas as pd\n",
    "import matplotlib.pyplot as plt\n",
    "import numpy as np"
   ]
  },
  {
   "cell_type": "code",
   "execution_count": 197,
   "id": "b7e21dae",
   "metadata": {},
   "outputs": [],
   "source": [
    "def investors(startUps, invest):\n",
    "    \n",
    "    d = {}\n",
    "    for i in range(len(invest)):\n",
    "        if ',' in invest[i]:\n",
    "            string = invest[i].strip().split(',')\n",
    "            for j in string:\n",
    "                if j.strip() == '' or j.strip() == ' ':\n",
    "                    continue\n",
    "                if j.strip() in d:\n",
    "                    if startUps[i] not in d[j.strip()]:\n",
    "                        d[j.strip()].append(str(startUps[i]))\n",
    "                else:\n",
    "                    d[j.strip()] = list()\n",
    "                    d[j.strip()].append(str(startUps[i]))\n",
    "        else:\n",
    "            string = invest[i].strip()\n",
    "            if string in d:\n",
    "                if startUps[i] not in d[string]:\n",
    "                    d[string].append(str(startUps[i]))\n",
    "            else:\n",
    "                d[string] = list()\n",
    "                d[string].append(str(startUps[i]))\n",
    "                \n",
    "    return d"
   ]
  },
  {
   "cell_type": "code",
   "execution_count": 198,
   "id": "0cfb47c7",
   "metadata": {},
   "outputs": [],
   "source": [
    "def count(d):\n",
    "    dic = {}\n",
    "    for i in d:\n",
    "        dic[i] = len(d[i])\n",
    "        \n",
    "    return dic"
   ]
  },
  {
   "cell_type": "code",
   "execution_count": 204,
   "id": "2dd6e10c",
   "metadata": {},
   "outputs": [
    {
     "name": "stdout",
     "output_type": "stream",
     "text": [
      "Sequoia Capital 46\n",
      "Accel Partners 43\n",
      "Kalaari Capital 35\n",
      "Blume Ventures 27\n",
      "SAIF Partners 24\n"
     ]
    },
    {
     "name": "stderr",
     "output_type": "stream",
     "text": [
      "<ipython-input-204-aff0e891e992>:13: FutureWarning: The default value of regex will change from True to False in a future version.\n",
      "  df['StartupName'] = df['StartupName'].str.replace('Flipkart.com', 'Flipkart')\n"
     ]
    },
    {
     "data": {
      "image/png": "[encoded data removed]",
      "text/plain": [
       "<Figure size 432x288 with 1 Axes>"
      ]
     },
     "metadata": {
      "needs_background": "light"
     },
     "output_type": "display_data"
    }
   ],
   "source": [
    "df = pd.read_csv('startup_funding.csv')\n",
    "df['InvestmentType'].replace('SeedFunding', 'Seed Funding', inplace = True)\n",
    "df['InvestmentType'].replace('PrivateEquity', 'Private Equity', inplace = True)\n",
    "df['InvestmentType'].replace('Crowd funding', 'Crowd Funding', inplace = True)\n",
    "df.dropna(subset = ['InvestmentType'], inplace = True)\n",
    "df['InvestorsName'] = df['InvestorsName'].replace('Undisclosed Investors', np.nan)\n",
    "df['InvestorsName'] = df['InvestorsName'].replace('Undisclosed investors', np.nan)\n",
    "df['InvestorsName'] = df['InvestorsName'].replace('undisclosed Investors', np.nan)\n",
    "df['InvestorsName'] = df['InvestorsName'].replace('undisclosed investors', np.nan)\n",
    "df.dropna(subset = ['InvestorsName'], inplace = True)\n",
    "df['StartupName'] = df['StartupName'].str.replace('Olacabs', 'Ola')\n",
    "df['StartupName'] = df['StartupName'].str.replace('Ola Cabs', 'Ola')\n",
    "df['StartupName'] = df['StartupName'].str.replace('Flipkart.com', 'Flipkart')\n",
    "df['StartupName'] = df['StartupName'].str.replace('Oyo Rooms', 'Oyo')\n",
    "df['StartupName'] = df['StartupName'].str.replace('OyoRooms', 'Oyo')\n",
    "df['StartupName'] = df['StartupName'].str.replace('Oyorooms', 'Oyo')\n",
    "df['StartupName'] = df['StartupName'].str.replace('Paytm Marketplace', 'Paytm')\n",
    "df.dropna(subset = ['StartupName'], inplace = True)\n",
    "\n",
    "df = df[(df.InvestmentType == 'Private Equity')]\n",
    "\n",
    "d = investors(np.array(df['StartupName']), np.array(df['InvestorsName']))\n",
    "dic = count(d)\n",
    "import operator as op\n",
    "d = dict(sorted(dic.items(), key=op.itemgetter(1), reverse=True))\n",
    "val = 0\n",
    "l1 = []\n",
    "l2 = []\n",
    "for i in d:\n",
    "    l1.append(i)\n",
    "    l2.append(d[i])\n",
    "    print(i, d[i])\n",
    "    val += 1\n",
    "    if(val == 5):\n",
    "        break\n",
    "        \n",
    "plt.bar(l1, l2)\n",
    "plt.xticks(rotation=60)\n",
    "plt.grid()\n",
    "plt.title('Top Investors in Seed Funding and Crowd Funding Type')\n",
    "plt.xlabel('Investor Name')\n",
    "plt.ylabel('Number of Investments')\n",
    "plt.show()\n"
   ]
  },
  {
   "cell_type": "code",
   "execution_count": null,
   "id": "28849507",
   "metadata": {},
   "outputs": [],
   "source": []
  }
 ],
 "metadata": {
  "kernelspec": {
   "display_name": "Python 3",
   "language": "python",
   "name": "python3"
  },
  "language_info": {
   "codemirror_mode": {
    "name": "ipython",
    "version": 3
   },
   "file_extension": ".py",
   "mimetype": "text/x-python",
   "name": "python",
   "nbconvert_exporter": "python",
   "pygments_lexer": "ipython3",
   "version": "3.8.8"
  }
 },
 "nbformat": 4,
 "nbformat_minor": 5
}
